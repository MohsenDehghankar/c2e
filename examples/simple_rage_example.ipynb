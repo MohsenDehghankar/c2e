{
 "cells": [
  {
   "cell_type": "code",
   "execution_count": 1,
   "id": "413b479f",
   "metadata": {},
   "outputs": [],
   "source": [
    "import sys\n",
    "\n",
    "sys.path.append(\"..\")\n",
    "\n",
    "from methods.simple_rag import SimpleRAG\n",
    "from dataloader.load_datasets import *\n",
    "from helpers import llm\n",
    "from helpers import pubmed"
   ]
  },
  {
   "cell_type": "code",
   "execution_count": 2,
   "id": "be3b36de",
   "metadata": {},
   "outputs": [
    {
     "name": "stdout",
     "output_type": "stream",
     "text": [
      "Loaded HEALTHVER train set: 10590 examples\n"
     ]
    }
   ],
   "source": [
    "df = load_healthver(data_dir=\"../dataloader/data\")"
   ]
  },
  {
   "cell_type": "code",
   "execution_count": 3,
   "id": "a752150f",
   "metadata": {},
   "outputs": [
    {
     "name": "stdout",
     "output_type": "stream",
     "text": [
      "9592    Other research has observed high rates of vita...\n",
      "4710    the use of ibuprofen and similar anti-inflamma...\n",
      "500     Nicotine may play an indirect role that makes ...\n",
      "4450    there is no effect of either surgical or fabri...\n",
      "5559    virtue of weather will not stop the spread of ...\n",
      "Name: claim, dtype: object\n"
     ]
    }
   ],
   "source": [
    "n = 5  # You can change this number\n",
    "random_claims = df[\"claim\"].sample(n=n, random_state=42)\n",
    "print(random_claims)"
   ]
  },
  {
   "cell_type": "code",
   "execution_count": 5,
   "id": "8499f2be",
   "metadata": {},
   "outputs": [],
   "source": [
    "model = \"gpt-oss:20b\"\n",
    "host = \"localhost\"\n",
    "port = 11434\n",
    "\n",
    "client = llm.setup_ollama_client(host=host, port=port)\n",
    "pubmed.set_api_key()"
   ]
  },
  {
   "cell_type": "code",
   "execution_count": 12,
   "id": "a3803682",
   "metadata": {},
   "outputs": [
    {
     "data": {
      "text/plain": [
       "'vitamin D deficiency, COVID-19, acute respiratory failure, ARDS, hypovitaminosis D'"
      ]
     },
     "execution_count": 12,
     "metadata": {},
     "output_type": "execute_result"
    }
   ],
   "source": [
    "keywords = 5\n",
    "\n",
    "response = llm.call_ollama(\n",
    "    model=model,\n",
    "    prompt=f\"Suggest me a set of keywords to search for finding scientific articles about the following claim: {random_claims.iloc[0]}. Give just a simple list of {keywords} keywords, separated by commas.\",\n",
    "    client=client,\n",
    ")\n",
    "\n",
    "response.get(\"response\", \"Nothing!!\")"
   ]
  },
  {
   "cell_type": "code",
   "execution_count": 16,
   "id": "bce8c2ac",
   "metadata": {},
   "outputs": [],
   "source": [
    "keywords = response.get(\"response\", \"Nothing!!\").split(\",\")\n",
    "ketwords = [kw.strip() for kw in keywords]"
   ]
  },
  {
   "cell_type": "code",
   "execution_count": 13,
   "id": "ce30fb34",
   "metadata": {},
   "outputs": [
    {
     "data": {
      "text/plain": [
       "'Other research has observed high rates of vitamin D deficiency in people with COVID-19 who experienced acute respiratory failure.'"
      ]
     },
     "execution_count": 13,
     "metadata": {},
     "output_type": "execute_result"
    }
   ],
   "source": [
    "random_claims.iloc[0]"
   ]
  },
  {
   "cell_type": "code",
   "execution_count": 18,
   "id": "0d955843",
   "metadata": {},
   "outputs": [
    {
     "data": {
      "text/plain": [
       "['vitamin D deficiency',\n",
       " ' COVID-19',\n",
       " ' acute respiratory failure',\n",
       " ' ARDS',\n",
       " ' hypovitaminosis D']"
      ]
     },
     "execution_count": 18,
     "metadata": {},
     "output_type": "execute_result"
    }
   ],
   "source": [
    "keywords"
   ]
  },
  {
   "cell_type": "code",
   "execution_count": 20,
   "id": "f53b6c96",
   "metadata": {},
   "outputs": [
    {
     "data": {
      "text/plain": [
       "[PubMedPaper(pmid='33232783', title='Putative roles of vitamin D in modulating immune response and immunopathology associated with COVID-19.', abstract='The first incidence of COVID-19 was reported in the Wuhan city of Hubei province in China in late December 2019. Because of failure in timely closing of borders of the affected region, COVID-19 spread across like a wildfire through air travel initiating a pandemic. It is a serious lower respiratory track viral infection caused by highly contagious, severe acute respiratory syndrome coronavirus-2 (SARS-CoV-2). Coronavirus including COVID-19 causing SARS-CoV-2 causes zoonotic diseases and thought to be originated from bats. Since its first incidence, the virus has spread all across the world, causing serious human casualties, economic losses, and disrupting global supply chains. As with SARS-CoV, COVID-19 causing SARS-CoV-2 follows a similar path of airborne infection, but is less lethal and more infectious than SARS and MERS. This review focusses on the pathogenesis of SARS-CoV-2, especially on the dysfunctional immune responses following a cytokine storm in severely affected persons. The mode of entry of SARS-CoV-2 is via the angiotensin converting enzyme 2 (ACE-2) receptors present on the epithelial lining of lungs, gastrointestinal tract, and mucus membranes. Older persons with weaker immune system and associated co-morbidities are more vulnerable to have dysfunctional immune responses, as most of them concomitantly have severe hypovitaminosis D. Consequently, causing severe damage to key organs of the body including lungs and the cardiovascular system. Since, vast majority of persons enters to the intensive care units and died, had severe vitamin D deficiency, thus, this area must be investigated seriously. In addition, this article assesses the role of vitamin D in reducing the risk of COVID-19. Vitamin D is a key regulator of the renin-angiotensin system that is exploited by SARS-CoV-2 for entry into the host cells. Further, vitamin D modulates multiple mechanisms of the immune system to contain the virus that includes dampening the entry and replication of SARS-CoV-2, reduces concentration of pro-inflammatory cytokines and increases levels of anti-inflammatory cytokines, enhances the production of natural antimicrobial peptide and activates defensive cells such as macrophages that could destroy SARS-CoV-2. Thus, this article provides the urgency of needed evidences through large population based randomized controlled trials and ecological studies to evaluate the potential role of vitamin D in COVID-19.', authors=['Raman Kumar', 'Himani Rathi', 'Afrozul Haq', 'Sunil J Wimalawansa', 'Alpana Sharma'], journal='Virus research', publication_date='2021 Jan 15', doi='10.1016/j.virusres.2020.198235', pmc_id='PMC7680047', is_free_in_pmc=True, paper_url='https://doi.org/10.1016/j.virusres.2020.198235')]"
      ]
     },
     "execution_count": 20,
     "metadata": {},
     "output_type": "execute_result"
    }
   ],
   "source": [
    "pubmed.get_papers(\" + \".join(keywords), top_k=5)"
   ]
  }
 ],
 "metadata": {
  "kernelspec": {
   "display_name": "venv (3.12.7)",
   "language": "python",
   "name": "python3"
  },
  "language_info": {
   "codemirror_mode": {
    "name": "ipython",
    "version": 3
   },
   "file_extension": ".py",
   "mimetype": "text/x-python",
   "name": "python",
   "nbconvert_exporter": "python",
   "pygments_lexer": "ipython3",
   "version": "3.12.7"
  }
 },
 "nbformat": 4,
 "nbformat_minor": 5
}
